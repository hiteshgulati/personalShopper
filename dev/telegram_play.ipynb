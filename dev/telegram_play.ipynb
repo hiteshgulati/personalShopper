{
 "cells": [
  {
   "cell_type": "code",
   "execution_count": 14,
   "metadata": {},
   "outputs": [],
   "source": [
    "import os\n",
    "from dotenv import load_dotenv\n",
    "load_dotenv()\n",
    "import time\n",
    "import asyncio\n",
    "from concurrent.futures import ThreadPoolExecutor"
   ]
  },
  {
   "cell_type": "code",
   "execution_count": null,
   "metadata": {},
   "outputs": [],
   "source": [
    "new_var = os.environ['TELEGRAM_TOKEN']\n",
    "new_var = \"...\""
   ]
  },
  {
   "cell_type": "code",
   "execution_count": 2,
   "metadata": {},
   "outputs": [
    {
     "data": {
      "text/plain": [
       "'A123'"
      ]
     },
     "execution_count": 2,
     "metadata": {},
     "output_type": "execute_result"
    }
   ],
   "source": [
    "os.environ['TELEGRAM_TOKEN']"
   ]
  },
  {
   "cell_type": "code",
   "execution_count": 23,
   "metadata": {},
   "outputs": [
    {
     "name": "stdout",
     "output_type": "stream",
     "text": [
      "{'abc': 123, 'xyz': 112}\n"
     ]
    },
    {
     "name": "stderr",
     "output_type": "stream",
     "text": [
      "/var/folders/rw/d270qq7d70j5rl2p2xpt2yfr0000gn/T/ipykernel_55663/1254536509.py:22: RuntimeWarning: coroutine 'update_user_context1' was never awaited\n",
      "  f1 = exe.submit(update_user_context2)\n",
      "RuntimeWarning: Enable tracemalloc to get the object allocation traceback\n",
      "/var/folders/rw/d270qq7d70j5rl2p2xpt2yfr0000gn/T/ipykernel_55663/1254536509.py:24: RuntimeWarning: coroutine 'update_user_context2' was never awaited\n",
      "  _ = f1.result()\n",
      "RuntimeWarning: Enable tracemalloc to get the object allocation traceback\n"
     ]
    }
   ],
   "source": [
    "user_context = {'abc':123,'xyz':112}\n",
    "\n",
    "async def update_user_context1():\n",
    "    print(\"1\")\n",
    "    time.sleep(1)\n",
    "    print(\"adding def\")\n",
    "    user_context['def'] = 981\n",
    "    time.sleep(4)\n",
    "    print(\"deleting abc\")\n",
    "    del user_context['abc']\n",
    "\n",
    "async def update_user_context2():\n",
    "    print(\"2\")\n",
    "    time.sleep(2)\n",
    "    print(\"Adding ghi\")\n",
    "    user_context['ghi'] = 981\n",
    "    # del user_context['abc']\n",
    "\n",
    "\n",
    "with ThreadPoolExecutor() as exe:\n",
    "    f1 = exe.submit(update_user_context1)\n",
    "    f1 = exe.submit(update_user_context2)\n",
    "\n",
    "    _ = f1.result()\n",
    "    # _ = f2.result()\n",
    "    exe.shutdown(wait=True, cancel_futures=True)\n",
    "\n",
    "print(user_context)"
   ]
  },
  {
   "cell_type": "code",
   "execution_count": null,
   "metadata": {},
   "outputs": [],
   "source": []
  }
 ],
 "metadata": {
  "kernelspec": {
   "display_name": "venv",
   "language": "python",
   "name": "python3"
  },
  "language_info": {
   "codemirror_mode": {
    "name": "ipython",
    "version": 3
   },
   "file_extension": ".py",
   "mimetype": "text/x-python",
   "name": "python",
   "nbconvert_exporter": "python",
   "pygments_lexer": "ipython3",
   "version": "3.11.0"
  },
  "orig_nbformat": 4
 },
 "nbformat": 4,
 "nbformat_minor": 2
}
