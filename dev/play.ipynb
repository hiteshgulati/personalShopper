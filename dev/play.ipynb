{
 "cells": [
  {
   "cell_type": "code",
   "execution_count": 1,
   "metadata": {},
   "outputs": [],
   "source": [
    "import os"
   ]
  },
  {
   "cell_type": "code",
   "execution_count": 2,
   "metadata": {},
   "outputs": [
    {
     "name": "stdout",
     "output_type": "stream",
     "text": [
      "COMMAND_MODE unix2003\n",
      "HOME /Users/hg\n",
      "HOMEBREW_CELLAR /opt/homebrew/Cellar\n",
      "HOMEBREW_PREFIX /opt/homebrew\n",
      "HOMEBREW_REPOSITORY /opt/homebrew\n",
      "INFOPATH /opt/homebrew/share/info:\n",
      "LOGNAME hg\n",
      "MANPATH /opt/homebrew/share/man::\n",
      "MallocNanoZone 0\n",
      "OLDPWD /\n",
      "ORIGINAL_XDG_CURRENT_DESKTOP undefined\n",
      "PATH /Users/hg/Space/Code/personalShopper/venv/bin:/Library/Frameworks/Python.framework/Versions/3.11/bin:/Library/Frameworks/Python.framework/Versions/3.10/bin:/opt/homebrew/bin:/opt/homebrew/sbin:/usr/local/bin:/System/Cryptexes/App/usr/bin:/usr/bin:/bin:/usr/sbin:/sbin:/Library/Apple/usr/bin:/Library/flutter/bin\n",
      "PWD /\n",
      "SHELL /bin/zsh\n",
      "SHLVL 1\n",
      "SSH_AUTH_SOCK /private/tmp/com.apple.launchd.3cUB6sS94S/Listeners\n",
      "TMPDIR /var/folders/rw/d270qq7d70j5rl2p2xpt2yfr0000gn/T/\n",
      "USER hg\n",
      "VSCODE_AMD_ENTRYPOINT vs/workbench/api/node/extensionHostProcess\n",
      "VSCODE_CODE_CACHE_PATH /Users/hg/Library/Application Support/Code/CachedData/704ed70d4fd1c6bd6342c436f1ede30d1cff4710\n",
      "VSCODE_CRASH_REPORTER_PROCESS_TYPE extensionHost\n",
      "VSCODE_CRASH_REPORTER_SANDBOXED_HINT 1\n",
      "VSCODE_CWD /\n",
      "VSCODE_HANDLES_UNCAUGHT_ERRORS true\n",
      "VSCODE_IPC_HOOK /Users/hg/Library/Application Support/Code/1.77-main.sock\n",
      "VSCODE_NLS_CONFIG {\"locale\":\"en-gb\",\"osLocale\":\"en-in\",\"availableLanguages\":{},\"_languagePackSupport\":true}\n",
      "VSCODE_PID 53268\n",
      "XPC_FLAGS 0x0\n",
      "XPC_SERVICE_NAME 0\n",
      "_ /Users/hg/Space/Code/personalShopper/venv/bin/python\n",
      "__CFBundleIdentifier com.microsoft.VSCode\n",
      "__CF_USER_TEXT_ENCODING 0x1F5:0x0:0x0\n",
      "ELECTRON_RUN_AS_NODE 1\n",
      "APPLICATION_INSIGHTS_NO_DIAGNOSTIC_CHANNEL 1\n",
      "PYTHONUNBUFFERED 1\n",
      "PYTHONIOENCODING utf-8\n",
      "VIRTUAL_ENV /Users/hg/Space/Code/personalShopper/venv\n",
      "PS1 (venv) \n",
      "LC_CTYPE UTF-8\n",
      "PYDEVD_IPYTHON_COMPATIBLE_DEBUGGING 1\n",
      "PYDEVD_USE_FRAME_EVAL NO\n",
      "TERM xterm-color\n",
      "CLICOLOR 1\n",
      "FORCE_COLOR 1\n",
      "CLICOLOR_FORCE 1\n",
      "PAGER cat\n",
      "GIT_PAGER cat\n",
      "MPLBACKEND module://matplotlib_inline.backend_inline\n"
     ]
    }
   ],
   "source": [
    "for k,v in os.environ.items():\n",
    "    pass\n",
    "    print(k,v)"
   ]
  },
  {
   "cell_type": "code",
   "execution_count": 14,
   "metadata": {},
   "outputs": [
    {
     "data": {
      "text/plain": [
       "'123'"
      ]
     },
     "execution_count": 14,
     "metadata": {},
     "output_type": "execute_result"
    }
   ],
   "source": [
    "os.environ.get(\"TELEGRAM_TOKEN\")"
   ]
  },
  {
   "cell_type": "code",
   "execution_count": 13,
   "metadata": {},
   "outputs": [],
   "source": [
    "os.environ['TELEGRAM_TOKEN'] = \"123\""
   ]
  },
  {
   "cell_type": "code",
   "execution_count": null,
   "metadata": {},
   "outputs": [],
   "source": []
  }
 ],
 "metadata": {
  "kernelspec": {
   "display_name": "venv",
   "language": "python",
   "name": "python3"
  },
  "language_info": {
   "codemirror_mode": {
    "name": "ipython",
    "version": 3
   },
   "file_extension": ".py",
   "mimetype": "text/x-python",
   "name": "python",
   "nbconvert_exporter": "python",
   "pygments_lexer": "ipython3",
   "version": "3.11.0"
  },
  "orig_nbformat": 4
 },
 "nbformat": 4,
 "nbformat_minor": 2
}
